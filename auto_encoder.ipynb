{
  "nbformat": 4,
  "nbformat_minor": 0,
  "metadata": {
    "colab": {
      "name": "auto-encoder.ipynb",
      "provenance": [],
      "collapsed_sections": [],
      "include_colab_link": true
    },
    "kernelspec": {
      "name": "python3",
      "display_name": "Python 3"
    },
    "accelerator": "GPU"
  },
  "cells": [
    {
      "cell_type": "markdown",
      "metadata": {
        "id": "view-in-github",
        "colab_type": "text"
      },
      "source": [
        "<a href=\"https://colab.research.google.com/github/kamzon/auto-encoder/blob/main/auto_encoder.ipynb\" target=\"_parent\"><img src=\"https://colab.research.google.com/assets/colab-badge.svg\" alt=\"Open In Colab\"/></a>"
      ]
    },
    {
      "cell_type": "code",
      "metadata": {
        "id": "QYfqaxRbwOHT"
      },
      "source": [
        "# libraries\n",
        "import numpy as np\n",
        "from matplotlib import pyplot as plt \n",
        "import math\n"
      ],
      "execution_count": null,
      "outputs": []
    },
    {
      "cell_type": "code",
      "metadata": {
        "id": "V8zrawAOxBIc"
      },
      "source": [
        "from keras.datasets import mnist\n",
        "(train_images,train_labels),(test_images,test_labels)= mnist.load_data()"
      ],
      "execution_count": null,
      "outputs": []
    },
    {
      "cell_type": "code",
      "metadata": {
        "id": "fZUCESb1xcIc",
        "colab": {
          "base_uri": "https://localhost:8080/",
          "height": 34
        },
        "outputId": "0e179a68-bb4b-4327-8410-f1624fe74378"
      },
      "source": [
        "train_images.shape"
      ],
      "execution_count": null,
      "outputs": [
        {
          "output_type": "execute_result",
          "data": {
            "text/plain": [
              "(60000, 28, 28)"
            ]
          },
          "metadata": {
            "tags": []
          },
          "execution_count": 5
        }
      ]
    },
    {
      "cell_type": "code",
      "metadata": {
        "id": "XW-1I6V_yf79"
      },
      "source": [
        "\n",
        "image_size=train_images.shape[1]\n",
        "train_images=np.reshape(train_images,[-1,image_size,image_size,1])\n",
        "test_images=np.reshape(test_images,[-1,image_size,image_size,1])\n",
        "\n",
        "train_images=train_images.astype('float32')/255\n",
        "test_images=test_images.astype('float32')/255\n",
        "\n",
        "#image avec noise\n",
        "\n",
        "noise=np.random.normal(loc=0, scale=0.1, size=train_images.shape)\n",
        "train_images_noisy=train_images + noise/10\n",
        "\n",
        "noise=np.random.normal(loc=0, scale=0.1, size=test_images.shape)\n",
        "test_images_noisy=test_images + noise/10\n",
        "\n",
        "\n",
        "\n",
        "\n",
        "\n",
        "\n",
        "\n",
        "\n"
      ],
      "execution_count": null,
      "outputs": []
    },
    {
      "cell_type": "code",
      "metadata": {
        "id": "kNp_nFSYlkF7"
      },
      "source": [
        "noise"
      ],
      "execution_count": null,
      "outputs": []
    },
    {
      "cell_type": "code",
      "metadata": {
        "id": "N7mdP5jV7Xyu",
        "colab": {
          "base_uri": "https://localhost:8080/",
          "height": 282
        },
        "outputId": "fb0543d9-eb73-4611-8989-4d43467cb0d5"
      },
      "source": [
        "plt.imshow(test_images_noisy[10].reshape(28,28),cmap='gray')"
      ],
      "execution_count": null,
      "outputs": [
        {
          "output_type": "execute_result",
          "data": {
            "text/plain": [
              "<matplotlib.image.AxesImage at 0x7fa6818bd978>"
            ]
          },
          "metadata": {
            "tags": []
          },
          "execution_count": 210
        },
        {
          "output_type": "display_data",
          "data": {
            "image/png": "[encoded data removed]",
            "text/plain": [
              "<Figure size 432x288 with 1 Axes>"
            ]
          },
          "metadata": {
            "tags": []
          }
        }
      ]
    },
    {
      "cell_type": "code",
      "metadata": {
        "id": "gkLy__fg9sWZ"
      },
      "source": [
        "import keras\n",
        "from keras.models import Sequential,Input,Model\n",
        "from keras.layers import Dense,Dropout,Flatten\n",
        "from keras.layers import Conv2D,MaxPooling2D\n",
        "from keras.layers.normalization import BatchNormalization\n",
        "from keras.layers.advanced_activations import LeakyReLU\n",
        "import keras.layers\n",
        "from keras.layers import Conv2DTranspose, Reshape\n",
        "from keras.layers import Activation, Dense\n"
      ],
      "execution_count": null,
      "outputs": []
    },
    {
      "cell_type": "code",
      "metadata": {
        "id": "0VlmM24E7XuH"
      },
      "source": [
        "\n",
        "\n",
        "#encoder:\n",
        "autoencoder_model=Sequential()\n",
        "autoencoder_model.add(Conv2D(64,kernel_size=5,strides=2,activation='relu',input_shape=(28,28,1),padding='same'))\n",
        "autoencoder_model.add(Conv2D(32,kernel_size=5,strides=2, activation='relu',padding='same'))\n",
        "autoencoder_model.add(Flatten())\n",
        "autoencoder_model.add(Dense(16))\n",
        "#autoencoder_model.add(Conv2D(64,kernel_size=5,strides=2,activation='relu',padding='same'))\n",
        "\n",
        "\n"
      ],
      "execution_count": null,
      "outputs": []
    },
    {
      "cell_type": "code",
      "metadata": {
        "id": "4N-0gR8w9rra"
      },
      "source": [
        ""
      ],
      "execution_count": null,
      "outputs": []
    },
    {
      "cell_type": "code",
      "metadata": {
        "id": "1MT3u7Bb9ODX"
      },
      "source": [
        "#decoder\n",
        "autoencoder_model.add(Dense(1568))\n",
        "autoencoder_model.add(Reshape((7,7,32)))\n",
        "autoencoder_model.add(Conv2DTranspose(32,kernel_size=5,strides=2,activation='relu',padding='same'))\n",
        "\n",
        "autoencoder_model.add(Conv2DTranspose(64,kernel_size=5,strides=2,activation='relu',padding='same'))\n",
        "\n",
        "#autoencoder_model.add(Conv2DTranspose(16,kernel_size=5,strides=2,activation='relu',padding='same'))\n",
        "\n",
        "autoencoder_model.add(Conv2DTranspose(1,kernel_size=5,padding='same'))\n",
        "\n",
        "autoencoder_model.add(Activation('sigmoid'))\n"
      ],
      "execution_count": null,
      "outputs": []
    },
    {
      "cell_type": "code",
      "metadata": {
        "id": "sdf3eWbDBsct"
      },
      "source": [
        "autoencoder_model.compile(loss='mse',optimizer='adam')"
      ],
      "execution_count": null,
      "outputs": []
    },
    {
      "cell_type": "code",
      "metadata": {
        "id": "URp__ux7CC0f",
        "colab": {
          "base_uri": "https://localhost:8080/",
          "height": 493
        },
        "outputId": "ac4835b4-9676-4318-ebac-9b5d64230b82"
      },
      "source": [
        "autoencoder_model.summary()"
      ],
      "execution_count": null,
      "outputs": [
        {
          "output_type": "stream",
          "text": [
            "Model: \"sequential_25\"\n",
            "_________________________________________________________________\n",
            "Layer (type)                 Output Shape              Param #   \n",
            "=================================================================\n",
            "conv2d_49 (Conv2D)           (None, 14, 14, 64)        1664      \n",
            "_________________________________________________________________\n",
            "conv2d_50 (Conv2D)           (None, 7, 7, 32)          51232     \n",
            "_________________________________________________________________\n",
            "flatten_10 (Flatten)         (None, 1568)              0         \n",
            "_________________________________________________________________\n",
            "dense_16 (Dense)             (None, 16)                25104     \n",
            "_________________________________________________________________\n",
            "dense_17 (Dense)             (None, 1568)              26656     \n",
            "_________________________________________________________________\n",
            "reshape_5 (Reshape)          (None, 7, 7, 32)          0         \n",
            "_________________________________________________________________\n",
            "conv2d_transpose_66 (Conv2DT (None, 14, 14, 32)        25632     \n",
            "_________________________________________________________________\n",
            "conv2d_transpose_67 (Conv2DT (None, 28, 28, 64)        51264     \n",
            "_________________________________________________________________\n",
            "conv2d_transpose_68 (Conv2DT (None, 28, 28, 1)         1601      \n",
            "_________________________________________________________________\n",
            "activation_10 (Activation)   (None, 28, 28, 1)         0         \n",
            "=================================================================\n",
            "Total params: 183,153\n",
            "Trainable params: 183,153\n",
            "Non-trainable params: 0\n",
            "_________________________________________________________________\n"
          ],
          "name": "stdout"
        }
      ]
    },
    {
      "cell_type": "code",
      "metadata": {
        "id": "7Bt-JLTZCNVV",
        "colab": {
          "base_uri": "https://localhost:8080/",
          "height": 391
        },
        "outputId": "c66f0a9d-b5de-41d5-e2c9-db73f8e3445f"
      },
      "source": [
        "autoencoder_train=autoencoder_model.fit(train_images_noisy,train_images, batch_size=32,nb_epoch=10,verbose=1)"
      ],
      "execution_count": null,
      "outputs": [
        {
          "output_type": "stream",
          "text": [
            "/usr/local/lib/python3.6/dist-packages/ipykernel_launcher.py:1: UserWarning: The `nb_epoch` argument in `fit` has been renamed `epochs`.\n",
            "  \"\"\"Entry point for launching an IPython kernel.\n"
          ],
          "name": "stderr"
        },
        {
          "output_type": "stream",
          "text": [
            "Epoch 1/10\n",
            "60000/60000 [==============================] - 15s 245us/step - loss: 0.0197\n",
            "Epoch 2/10\n",
            "60000/60000 [==============================] - 13s 209us/step - loss: 0.0096\n",
            "Epoch 3/10\n",
            "60000/60000 [==============================] - 13s 215us/step - loss: 0.0085\n",
            "Epoch 4/10\n",
            "60000/60000 [==============================] - 13s 211us/step - loss: 0.0079\n",
            "Epoch 5/10\n",
            "60000/60000 [==============================] - 13s 211us/step - loss: 0.0075\n",
            "Epoch 6/10\n",
            "60000/60000 [==============================] - 13s 211us/step - loss: 0.0072\n",
            "Epoch 7/10\n",
            "60000/60000 [==============================] - 13s 213us/step - loss: 0.0070\n",
            "Epoch 8/10\n",
            "60000/60000 [==============================] - 13s 215us/step - loss: 0.0068\n",
            "Epoch 9/10\n",
            "60000/60000 [==============================] - 13s 217us/step - loss: 0.0067\n",
            "Epoch 10/10\n",
            "60000/60000 [==============================] - 13s 212us/step - loss: 0.0066\n"
          ],
          "name": "stdout"
        }
      ]
    },
    {
      "cell_type": "code",
      "metadata": {
        "id": "VEhJl825h-Do",
        "colab": {
          "base_uri": "https://localhost:8080/",
          "height": 147
        },
        "outputId": "cc685476-1ddb-45d1-a861-ae74327c6034"
      },
      "source": [
        "from PIL import Image\n",
        "\n",
        "\n",
        "# Prediction the Autoencoder output -- test images\n",
        "x_decoded = autoencoder_model.predict(test_images_noisy)\n",
        "\n",
        "image_size = train_images.shape[1]\n",
        "rows, cols = 1, 10\n",
        "num = rows * cols\n",
        "imgs = np.concatenate([test_images[:num], test_images_noisy[:num], x_decoded[:num]])\n",
        "imgs = imgs.reshape((rows * 3, cols, image_size, image_size))\n",
        "imgs = np.vstack(np.split(imgs, rows, axis=1))\n",
        "imgs = imgs.reshape((rows * 3, -1, image_size, image_size))\n",
        "imgs = np.vstack([np.hstack(i) for i in imgs])\n",
        "imgs = (imgs * 255).astype(np.uint8)\n",
        "plt.figure()\n",
        "plt.axis('off')\n",
        "plt.title('Original images: top rows, '\n",
        "          'Corrupted Input: middle rows, '\n",
        "          'Denoised Input:  third rows')\n",
        "plt.imshow(imgs, interpolation='none', cmap='gray')\n",
        "Image.fromarray(imgs).save('corrupted_and_denoised.png')\n",
        "plt.show()"
      ],
      "execution_count": null,
      "outputs": [
        {
          "output_type": "display_data",
          "data": {
            "image/png": "[encoded data removed]",
            "text/plain": [
              "<Figure size 432x288 with 1 Axes>"
            ]
          },
          "metadata": {
            "tags": []
          }
        }
      ]
    },
    {
      "cell_type": "code",
      "metadata": {
        "id": "cybts5hs2Md-",
        "colab": {
          "base_uri": "https://localhost:8080/",
          "height": 282
        },
        "outputId": "69eebf51-a0ac-4b32-9018-78bce0f46e55"
      },
      "source": [
        "plt.imshow(test_images[100].reshape(28,28))\n",
        "\n"
      ],
      "execution_count": null,
      "outputs": [
        {
          "output_type": "execute_result",
          "data": {
            "text/plain": [
              "<matplotlib.image.AxesImage at 0x7fa6819cf9e8>"
            ]
          },
          "metadata": {
            "tags": []
          },
          "execution_count": 203
        },
        {
          "output_type": "display_data",
          "data": {
            "image/png": "[encoded data removed]",
            "text/plain": [
              "<Figure size 432x288 with 1 Axes>"
            ]
          },
          "metadata": {
            "tags": []
          }
        }
      ]
    },
    {
      "cell_type": "code",
      "metadata": {
        "id": "25-IvK-S2eGA",
        "colab": {
          "base_uri": "https://localhost:8080/",
          "height": 282
        },
        "outputId": "f35ff3aa-7d01-4b1d-df1d-379d3fbb6b32"
      },
      "source": [
        "plt.imshow(test_images_noisy[100].reshape(28,28))\n"
      ],
      "execution_count": null,
      "outputs": [
        {
          "output_type": "execute_result",
          "data": {
            "text/plain": [
              "<matplotlib.image.AxesImage at 0x7fa6819ad5f8>"
            ]
          },
          "metadata": {
            "tags": []
          },
          "execution_count": 204
        },
        {
          "output_type": "display_data",
          "data": {
            "image/png": "[encoded data removed]",
            "text/plain": [
              "<Figure size 432x288 with 1 Axes>"
            ]
          },
          "metadata": {
            "tags": []
          }
        }
      ]
    },
    {
      "cell_type": "code",
      "metadata": {
        "id": "BJhXYkJE2gc2",
        "colab": {
          "base_uri": "https://localhost:8080/",
          "height": 282
        },
        "outputId": "248d31e6-3337-4f5d-a95f-1f7f0f7e4c5c"
      },
      "source": [
        "plt.imshow(x_decoded[100].reshape(28,28))"
      ],
      "execution_count": null,
      "outputs": [
        {
          "output_type": "execute_result",
          "data": {
            "text/plain": [
              "<matplotlib.image.AxesImage at 0x7fa6819886d8>"
            ]
          },
          "metadata": {
            "tags": []
          },
          "execution_count": 205
        },
        {
          "output_type": "display_data",
          "data": {
            "image/png": "[encoded data removed]",
            "text/plain": [
              "<Figure size 432x288 with 1 Axes>"
            ]
          },
          "metadata": {
            "tags": []
          }
        }
      ]
    }
  ]
}